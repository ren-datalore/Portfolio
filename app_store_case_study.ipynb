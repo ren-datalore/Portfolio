{
 "cells": [
  {
   "cell_type": "markdown",
   "metadata": {},
   "source": [
    "# Analyzing the App Stores\n",
    "## *Identifying Profitable App Profiles for the Apple and Android Markets*"
   ]
  },
  {
   "cell_type": "markdown",
   "metadata": {},
   "source": [
    "*Analysis by Lauren Holstein: January 2024*\n",
    "***"
   ]
  },
  {
   "cell_type": "markdown",
   "metadata": {},
   "source": [
    "## Table of Contents\n",
    "1. Project Goals\n",
    "2. Exploring the Data Sources\n",
    "3. Data Cleaning\n",
    "    - 3a. Removing Incorrect Data\n",
    "    - 3b. Removing Duplicates\n",
    "    - 3c. Removing Non-English Apps\n",
    "    - 3d. Isolating Free Apps\n",
    "4. Data Analysis\n",
    "    - 4a. Most Common App Genres\n",
    "    - 4b. Insights: Common App Genres\n",
    "    - 4c. Popular Apps by Genre\n",
    "    - 4d. Insights: Popular Apps by Genre\n"
   ]
  },
  {
   "cell_type": "markdown",
   "metadata": {},
   "source": [
    "## 1. Project Goals"
   ]
  },
  {
   "cell_type": "markdown",
   "metadata": {},
   "source": [
    "As an analyst at a company that creates free apps for the Android and Apple stores, my goal is to understand what type of apps attract the most users. \n",
    "\n",
    "In this project, I will perform the following tasks:\n",
    "* Analyze data from Google Play and the App Store\n",
    "* Identify app usage trends\n",
    "* Provide recommendations for increasing ad revenue through the company's free apps\n",
    "\n",
    "## 2. Exploring the Data Sources"
   ]
  },
  {
   "cell_type": "markdown",
   "metadata": {},
   "source": [
    "Approximately 2 million iOS apps and 2.1 million Android apps were available through their respective stores as of September 2018. For the purposes of this project, I will analyze a sample of the apps instead of the stores in their entireties:\n",
    "\n",
    "**Google Play Store:** A [dataset](https://www.kaggle.com/lava18/google-play-store-apps) containing information on approximately 10,000 Android apps from Google Play collected in August 2018.\n",
    "\n",
    "**Apple App Store:** A [dataset](https://www.kaggle.com/ramamet4/app-store-apple-data-set-10k-apps) containing information on approximately 7,000 iOS apps from the App Store collected in July 2017."
   ]
  },
  {
   "cell_type": "markdown",
   "metadata": {},
   "source": [
    "As a first step, I will download the datasets and load them into Jupyter Notebook:"
   ]
  },
  {
   "cell_type": "code",
   "execution_count": 2,
   "metadata": {},
   "outputs": [],
   "source": [
    "from csv import reader\n",
    "\n",
    "# The Android dataset from the Google Play Store \n",
    "opened_file = open('googleplaystore.csv')\n",
    "read_file = reader(opened_file)\n",
    "android = list(read_file)\n",
    "android_header = android[0]\n",
    "android = android[1:]\n",
    "\n",
    "# The Apple dataset from the App Store \n",
    "opened_file = open('AppleStore.csv')\n",
    "read_file = reader(opened_file)\n",
    "apple = list(read_file)\n",
    "apple_header = apple[0]\n",
    "apple = apple[1:]"
   ]
  },
  {
   "cell_type": "markdown",
   "metadata": {},
   "source": [
    "To make the datasets easier to explore, I'll use the function **explore_data()**, which prints rows for better readability. "
   ]
  },
  {
   "cell_type": "code",
   "execution_count": 3,
   "metadata": {},
   "outputs": [],
   "source": [
    "def explore_data(dataset, start, end, rows_and_columns=False):\n",
    "    dataset_slice = dataset[start:end]    \n",
    "    for row in dataset_slice:\n",
    "        print(row)\n",
    "        print('\\n') # adds a new (empty) line after each row\n",
    "\n",
    "    if rows_and_columns:\n",
    "        print('Number of rows:', len(dataset))\n",
    "        print('Number of columns:', len(dataset[0]))"
   ]
  },
  {
   "cell_type": "markdown",
   "metadata": {},
   "source": [
    "Here is a glimpse at the headers and first three rows of each dataset:"
   ]
  },
  {
   "cell_type": "code",
   "execution_count": 4,
   "metadata": {},
   "outputs": [
    {
     "name": "stdout",
     "output_type": "stream",
     "text": [
      "['App', 'Category', 'Rating', 'Reviews', 'Size', 'Installs', 'Type', 'Price', 'Content Rating', 'Genres', 'Last Updated', 'Current Ver', 'Android Ver']\n",
      "\n",
      "\n",
      "['Photo Editor & Candy Camera & Grid & ScrapBook', 'ART_AND_DESIGN', '4.1', '159', '19M', '10,000+', 'Free', '0', 'Everyone', 'Art & Design', 'January 7, 2018', '1.0.0', '4.0.3 and up']\n",
      "\n",
      "\n",
      "['Coloring book moana', 'ART_AND_DESIGN', '3.9', '967', '14M', '500,000+', 'Free', '0', 'Everyone', 'Art & Design;Pretend Play', 'January 15, 2018', '2.0.0', '4.0.3 and up']\n",
      "\n",
      "\n",
      "['U Launcher Lite – FREE Live Cool Themes, Hide Apps', 'ART_AND_DESIGN', '4.7', '87510', '8.7M', '5,000,000+', 'Free', '0', 'Everyone', 'Art & Design', 'August 1, 2018', '1.2.4', '4.0.3 and up']\n",
      "\n",
      "\n",
      "Number of rows: 10841\n",
      "Number of columns: 13\n"
     ]
    }
   ],
   "source": [
    "# Android Dataset\n",
    "print(android_header)\n",
    "print('\\n')\n",
    "explore_data(android, 0, 3, True)"
   ]
  },
  {
   "cell_type": "markdown",
   "metadata": {},
   "source": [
    "**Android dataset summary:** This dataset contains information about 10,841 apps. The attributes most relevant to this analysis include App, Category, Installs, Type, Price, and Genres."
   ]
  },
  {
   "cell_type": "code",
   "execution_count": 5,
   "metadata": {},
   "outputs": [
    {
     "name": "stdout",
     "output_type": "stream",
     "text": [
      "['id', 'track_name', 'size_bytes', 'currency', 'price', 'rating_count_tot', 'rating_count_ver', 'user_rating', 'user_rating_ver', 'ver', 'cont_rating', 'prime_genre', 'sup_devices.num', 'ipadSc_urls.num', 'lang.num', 'vpp_lic']\n",
      "\n",
      "\n",
      "['284882215', 'Facebook', '389879808', 'USD', '0.0', '2974676', '212', '3.5', '3.5', '95.0', '4+', 'Social Networking', '37', '1', '29', '1']\n",
      "\n",
      "\n",
      "['389801252', 'Instagram', '113954816', 'USD', '0.0', '2161558', '1289', '4.5', '4.0', '10.23', '12+', 'Photo & Video', '37', '0', '29', '1']\n",
      "\n",
      "\n",
      "['529479190', 'Clash of Clans', '116476928', 'USD', '0.0', '2130805', '579', '4.5', '4.5', '9.24.12', '9+', 'Games', '38', '5', '18', '1']\n",
      "\n",
      "\n",
      "Number of rows: 7197\n",
      "Number of columns: 16\n"
     ]
    }
   ],
   "source": [
    "# Apple Dataset\n",
    "print(apple_header)\n",
    "print('\\n')\n",
    "explore_data(apple, 0, 3, True)"
   ]
  },
  {
   "cell_type": "markdown",
   "metadata": {},
   "source": [
    "**Apple dataset summary:** This dataset contains information about 7,197 apps. The attributes most relevant to this analysis include App, Category, Installs, Type, Price, and Genres."
   ]
  },
  {
   "cell_type": "markdown",
   "metadata": {},
   "source": [
    "## 3. Data Cleaning\n",
    "### 3a. Removing Incorrect Data"
   ]
  },
  {
   "cell_type": "markdown",
   "metadata": {},
   "source": [
    "The Android dataset's source page on [Kaggle](https://www.kaggle.com/datasets/lava18/google-play-store-apps/data) includes a discussion section. Here, several users have identified a problem with entry 10742. \n",
    "\n",
    "As a first step to remove the incorrect data, I'll print row 10472 to confirm an error exists: "
   ]
  },
  {
   "cell_type": "code",
   "execution_count": 6,
   "metadata": {},
   "outputs": [
    {
     "name": "stdout",
     "output_type": "stream",
     "text": [
      "['Life Made WI-Fi Touchscreen Photo Frame', '1.9', '19', '3.0M', '1,000+', 'Free', '0', 'Everyone', '', 'February 11, 2018', '1.0.19', '4.0 and up']\n"
     ]
    }
   ],
   "source": [
    "print(android[10472])"
   ]
  },
  {
   "cell_type": "markdown",
   "metadata": {},
   "source": [
    "Comparing entry 10742 to the list's headers and a correct row, it is apparent that the Category field for app 10472 is missing, which has offset its columns by one:"
   ]
  },
  {
   "cell_type": "code",
   "execution_count": 7,
   "metadata": {},
   "outputs": [
    {
     "name": "stdout",
     "output_type": "stream",
     "text": [
      "['App', 'Category', 'Rating', 'Reviews', 'Size', 'Installs', 'Type', 'Price', 'Content Rating', 'Genres', 'Last Updated', 'Current Ver', 'Android Ver']\n"
     ]
    }
   ],
   "source": [
    "print(android_header)"
   ]
  },
  {
   "cell_type": "code",
   "execution_count": 8,
   "metadata": {},
   "outputs": [
    {
     "name": "stdout",
     "output_type": "stream",
     "text": [
      "['Photo Editor & Candy Camera & Grid & ScrapBook', 'ART_AND_DESIGN', '4.1', '159', '19M', '10,000+', 'Free', '0', 'Everyone', 'Art & Design', 'January 7, 2018', '1.0.0', '4.0.3 and up']\n"
     ]
    }
   ],
   "source": [
    "print(android[0])"
   ]
  },
  {
   "cell_type": "code",
   "execution_count": 9,
   "metadata": {},
   "outputs": [
    {
     "name": "stdout",
     "output_type": "stream",
     "text": [
      "['Life Made WI-Fi Touchscreen Photo Frame', '1.9', '19', '3.0M', '1,000+', 'Free', '0', 'Everyone', '', 'February 11, 2018', '1.0.19', '4.0 and up']\n"
     ]
    }
   ],
   "source": [
    "print(android[10472])"
   ]
  },
  {
   "cell_type": "markdown",
   "metadata": {},
   "source": [
    "After confirming entry 10472 contains an error, I will delete its row:"
   ]
  },
  {
   "cell_type": "code",
   "execution_count": 10,
   "metadata": {},
   "outputs": [],
   "source": [
    "del android[10472]\n",
    "# It is important to only run this code once, \n",
    "# otherwise it will delete the row \n",
    "# that now occupies index 10472."
   ]
  },
  {
   "cell_type": "code",
   "execution_count": 11,
   "metadata": {},
   "outputs": [
    {
     "name": "stdout",
     "output_type": "stream",
     "text": [
      "['osmino Wi-Fi: free WiFi', 'TOOLS', '4.2', '134203', '4.1M', '10,000,000+', 'Free', '0', 'Everyone', 'Tools', 'August 7, 2018', '6.06.14', '4.4 and up']\n"
     ]
    }
   ],
   "source": [
    "print(android[10472])\n",
    "# If only the faulty row was deleted, \n",
    "# this code should print info on\n",
    "# an app called Osmino Wi-Fi: free Wifi."
   ]
  },
  {
   "cell_type": "markdown",
   "metadata": {},
   "source": [
    "### 3b. Removing Duplicate Entries"
   ]
  },
  {
   "cell_type": "markdown",
   "metadata": {},
   "source": [
    "Next, I'll identify and remove duplicate entries from the dataset."
   ]
  },
  {
   "cell_type": "code",
   "execution_count": 12,
   "metadata": {},
   "outputs": [],
   "source": [
    "duplicate_apps = []\n",
    "unique_apps = []\n",
    "\n",
    "for app in android:\n",
    "    name = app[0]\n",
    "    if name in unique_apps:\n",
    "        duplicate_apps.append(name)\n",
    "    else:\n",
    "        unique_apps.append(name)"
   ]
  },
  {
   "cell_type": "markdown",
   "metadata": {},
   "source": [
    "The code above loops through every app in the Android list to identify duplicates based on app name; it found 1,181 duplicates."
   ]
  },
  {
   "cell_type": "code",
   "execution_count": 13,
   "metadata": {},
   "outputs": [
    {
     "name": "stdout",
     "output_type": "stream",
     "text": [
      "Number of duplicate apps:  1181\n",
      "\n",
      "\n",
      "Duplicate apps list sample:  ['Quick PDF Scanner + OCR FREE', 'Box', 'Google My Business', 'ZOOM Cloud Meetings', 'join.me - Simple Meetings']\n"
     ]
    }
   ],
   "source": [
    "print('Number of duplicate apps: ', len(duplicate_apps))\n",
    "print('\\n')\n",
    "print('Duplicate apps list sample: ', duplicate_apps[0:5])"
   ]
  },
  {
   "cell_type": "markdown",
   "metadata": {},
   "source": [
    "After identifying duplicate entries, I'll need to determine a criteria for keeping or discarding duplicates.\n",
    "\n",
    "Inspecting duplicates --for example, duplicates of the Google app-- reveals that the entries are identical except for the number of reviews. This suggests that entries showing more reviews were collected more recently than entries with fewer reviews, which would make review count a decent criterion for inclusion or deletion from the dataset. \n",
    "\n",
    "In other words, I want to include only the most up-to-date data possible."
   ]
  },
  {
   "cell_type": "code",
   "execution_count": 14,
   "metadata": {},
   "outputs": [
    {
     "name": "stdout",
     "output_type": "stream",
     "text": [
      "['Google', 'TOOLS', '4.4', '8033493', 'Varies with device', '1,000,000,000+', 'Free', '0', 'Everyone', 'Tools', 'August 3, 2018', 'Varies with device', 'Varies with device']\n",
      "['Google', 'TOOLS', '4.4', '8021623', 'Varies with device', '1,000,000,000+', 'Free', '0', 'Everyone', 'Tools', 'August 3, 2018', 'Varies with device', 'Varies with device']\n"
     ]
    }
   ],
   "source": [
    "for app in android:\n",
    "    name = app[0]\n",
    "    if name == 'Google':\n",
    "        print(app)"
   ]
  },
  {
   "cell_type": "markdown",
   "metadata": {},
   "source": [
    "The following code creates a dictionary of app names and their corresponding max rating count:"
   ]
  },
  {
   "cell_type": "code",
   "execution_count": 15,
   "metadata": {},
   "outputs": [
    {
     "name": "stdout",
     "output_type": "stream",
     "text": [
      "Max app ratings dictionary sample:  {'Photo Editor & Candy Camera & Grid & ScrapBook': 159.0, 'Coloring book moana': 974.0, 'U Launcher Lite – FREE Live Cool Themes, Hide Apps': 87510.0, 'Sketch - Draw & Paint': 215644.0, 'Pixel Draw - Number Art Coloring Book': 967.0}\n",
      "\n",
      "\n",
      "Max app ratings dictionary length:  9659\n",
      "Expected length:  9659\n"
     ]
    }
   ],
   "source": [
    "max_app_ratings = {}\n",
    "\n",
    "for app in android:\n",
    "    name = app[0]\n",
    "    ratings_count = float(app[3])\n",
    "    if name in max_app_ratings and ratings_count > max_app_ratings[name]:\n",
    "            max_app_ratings[name] = ratings_count\n",
    "    elif name not in max_app_ratings:\n",
    "        max_app_ratings[name] = ratings_count\n",
    "\n",
    "# Shows the first five entries in the dictionary\n",
    "first_five = dict(list(max_app_ratings.items())[:5])\n",
    "print('Max app ratings dictionary sample: ', first_five)\n",
    "print('\\n')\n",
    "print('Max app ratings dictionary length: ', len(max_app_ratings))\n",
    "print('Expected length: ', len(android)-len(duplicate_apps))"
   ]
  },
  {
   "cell_type": "markdown",
   "metadata": {},
   "source": [
    "After confirming the max_app_ratings dictionary is the expected length, I'll use it to remove duplicate rows from the Android dataset:"
   ]
  },
  {
   "cell_type": "code",
   "execution_count": 16,
   "metadata": {},
   "outputs": [
    {
     "name": "stdout",
     "output_type": "stream",
     "text": [
      "Android clean list length:  9659\n",
      "\n",
      "\n",
      "Android clean list sample:  [['Photo Editor & Candy Camera & Grid & ScrapBook', 'ART_AND_DESIGN', '4.1', '159', '19M', '10,000+', 'Free', '0', 'Everyone', 'Art & Design', 'January 7, 2018', '1.0.0', '4.0.3 and up'], ['U Launcher Lite – FREE Live Cool Themes, Hide Apps', 'ART_AND_DESIGN', '4.7', '87510', '8.7M', '5,000,000+', 'Free', '0', 'Everyone', 'Art & Design', 'August 1, 2018', '1.2.4', '4.0.3 and up'], ['Sketch - Draw & Paint', 'ART_AND_DESIGN', '4.5', '215644', '25M', '50,000,000+', 'Free', '0', 'Teen', 'Art & Design', 'June 8, 2018', 'Varies with device', '4.2 and up']]\n",
      "\n",
      "\n",
      "Already added list sample:  ['Photo Editor & Candy Camera & Grid & ScrapBook', 'U Launcher Lite – FREE Live Cool Themes, Hide Apps', 'Sketch - Draw & Paint']\n"
     ]
    }
   ],
   "source": [
    "android_clean = []\n",
    "already_added = []\n",
    "\n",
    "for app in android:\n",
    "    name = app[0]\n",
    "    n_reviews = float(app[3])\n",
    "    if n_reviews == max_app_ratings[name] and name not in already_added:\n",
    "        android_clean.append(app)\n",
    "        already_added.append(name)\n",
    "print('Android clean list length: ', len(android_clean))\n",
    "print('\\n')\n",
    "print('Android clean list sample: ', android_clean[:3])\n",
    "print('\\n')\n",
    "print('Already added list sample: ', already_added[:3])"
   ]
  },
  {
   "cell_type": "markdown",
   "metadata": {},
   "source": [
    "**I now have a list of Android apps that has been cleaned of duplicates.** \n",
    "\n",
    "**The Apple store dataset did not contain any duplicates.**"
   ]
  },
  {
   "cell_type": "markdown",
   "metadata": {},
   "source": [
    "### 3c. Removing Non-English Apps"
   ]
  },
  {
   "cell_type": "markdown",
   "metadata": {},
   "source": [
    "My company develops apps for an English-speaking audience, so I'll want to remove any non-English apps from the dataset before my analysis.\n",
    "\n",
    "Both the Apple and Android datasets contain non-English apps, such as the examples below:"
   ]
  },
  {
   "cell_type": "code",
   "execution_count": 17,
   "metadata": {},
   "outputs": [
    {
     "name": "stdout",
     "output_type": "stream",
     "text": [
      "['445375097', '爱奇艺PPS -《欢乐颂2》电视剧热播', '224617472', 'USD', '0.0', '14844', '0', '4.0', '0.0', '6.3.3', '17+', 'Entertainment', '38', '5', '3', '1']\n",
      "['中国語 AQリスニング', 'FAMILY', 'NaN', '21', '17M', '5,000+', 'Free', '0', 'Everyone', 'Education', 'June 22, 2016', '2.4.0', '4.0 and up']\n"
     ]
    }
   ],
   "source": [
    "print(apple[813])\n",
    "print(android_clean[4412])"
   ]
  },
  {
   "cell_type": "markdown",
   "metadata": {},
   "source": [
    "To find non-English apps, I'll identify characters in an app's name that are not commonly used in English text. Every character has an assigned number according to the ASCII (American Standard Code for Information Interchange); English characters fall in the range of 0 to 127. \n",
    "\n",
    "By using indexing to select individual characters and using the **ord()** function to retrieve the corresponding numbers, I can check whether each character is equal to or less than 127.\n",
    "\n",
    "The following function, **eng_name()**, takes in a string and returns false if it is not an English name and true if it is."
   ]
  },
  {
   "cell_type": "code",
   "execution_count": 18,
   "metadata": {},
   "outputs": [
    {
     "name": "stdout",
     "output_type": "stream",
     "text": [
      "Instagram is an English name:  True\n",
      "爱奇艺PPS -《欢乐颂2》电视剧热播 is an English name:  False\n"
     ]
    }
   ],
   "source": [
    "def eng_name(name):\n",
    "    for character in name:\n",
    "        if ord(character) > 127:\n",
    "            return False\n",
    "    return True\n",
    "        \n",
    "print('Instagram is an English name: ', eng_name('Instagram'))\n",
    "print('爱奇艺PPS -《欢乐颂2》电视剧热播 is an English name: ', eng_name('爱奇艺PPS -《欢乐颂2》电视剧热播'))"
   ]
  },
  {
   "cell_type": "markdown",
   "metadata": {},
   "source": [
    "The limitation of this function is that it will incorrectly label names as non-English if they contain characters such as trademark symbols or emojis. See the following examples:"
   ]
  },
  {
   "cell_type": "code",
   "execution_count": 19,
   "metadata": {},
   "outputs": [
    {
     "name": "stdout",
     "output_type": "stream",
     "text": [
      "Docs To Go™ Free Office Suite is an English name:  False\n",
      "Instachat 😜 is an English name:  False\n"
     ]
    }
   ],
   "source": [
    "print('Docs To Go™ Free Office Suite is an English name: ', eng_name('Docs To Go™ Free Office Suite'))\n",
    "print('Instachat 😜 is an English name: ', eng_name('Instachat 😜'))"
   ]
  },
  {
   "cell_type": "markdown",
   "metadata": {},
   "source": [
    "To decrease the number of misidentified English apps, I'll add in the criterion that a name must contain more than 3 non-English characters to be excluded from the dataset. "
   ]
  },
  {
   "cell_type": "code",
   "execution_count": 20,
   "metadata": {},
   "outputs": [
    {
     "name": "stdout",
     "output_type": "stream",
     "text": [
      "Docs To Go™ Free Office Suite is an English name:  True\n",
      "Instachat 😜 is an English name:  True\n",
      "爱奇艺PPS -《欢乐颂2》电视剧热播 is an English name:  False\n"
     ]
    }
   ],
   "source": [
    "def eng_name(name):\n",
    "    non_eng = 0\n",
    "    for character in name:\n",
    "        if ord(character) > 127:\n",
    "            non_eng += 1\n",
    "    if non_eng > 3:\n",
    "        return False\n",
    "    return True\n",
    "\n",
    "print('Docs To Go™ Free Office Suite is an English name: ', eng_name('Docs To Go™ Free Office Suite'))\n",
    "print('Instachat 😜 is an English name: ', eng_name('Instachat 😜'))\n",
    "print('爱奇艺PPS -《欢乐颂2》电视剧热播 is an English name: ', eng_name('爱奇艺PPS -《欢乐颂2》电视剧热播'))"
   ]
  },
  {
   "cell_type": "markdown",
   "metadata": {},
   "source": [
    "While not a perfect solution, the function now correctly identifies English apps that contain up to three emojis or other symbols.\n",
    "\n",
    "I'll clean the Android list first:"
   ]
  },
  {
   "cell_type": "code",
   "execution_count": 21,
   "metadata": {},
   "outputs": [
    {
     "name": "stdout",
     "output_type": "stream",
     "text": [
      "English Android app list length:  9614\n",
      "\n",
      "\n",
      "Sample of names on English Android app list:  ['Photo Editor & Candy Camera & Grid & ScrapBook', 'U Launcher Lite – FREE Live Cool Themes, Hide Apps', 'Sketch - Draw & Paint', 'Pixel Draw - Number Art Coloring Book', 'Paper flowers instructions']\n",
      "\n",
      "\n",
      "Non-English Android app list length:  45\n",
      "\n",
      "\n",
      "Sample of names on non-English Android app list:  ['Flame - درب عقلك يوميا', 'သိင်္ Astrology - Min Thein Kha BayDin', 'РИА Новости', 'صور حرف H', 'L.POINT - 엘포인트 [ 포인트, 멤버십, 적립, 사용, 모바일 카드, 쿠폰, 롯데]']\n"
     ]
    }
   ],
   "source": [
    "english_apps_android = []\n",
    "non_eng_apps_android = []\n",
    "for app in android_clean:\n",
    "    name = app[0]\n",
    "    if eng_name(name) == True:\n",
    "        english_apps_android.append(app)\n",
    "    else:\n",
    "        non_eng_apps_android.append(app)\n",
    "print('English Android app list length: ', len(english_apps_android))   \n",
    "print('\\n')\n",
    "names_eng_android = []\n",
    "for app in english_apps_android:\n",
    "    names_eng_android.append(app[0])\n",
    "print('Sample of names on English Android app list: ', names_eng_android[:5])\n",
    "print('\\n')\n",
    "names_non_eng_android = []\n",
    "for app in non_eng_apps_android:\n",
    "    names_non_eng_android.append(app[0])\n",
    "print('Non-English Android app list length: ', len(non_eng_apps_android))\n",
    "print('\\n')\n",
    "print('Sample of names on non-English Android app list: ', names_non_eng_android[:5])\n",
    "    \n",
    "    "
   ]
  },
  {
   "cell_type": "markdown",
   "metadata": {},
   "source": [
    "**The function separated out 45 non-English Android apps from our cleaned-of-duplicates list, leaving 9,614 English apps.** \n",
    "\n",
    "Next, I'll clean the Apple list:"
   ]
  },
  {
   "cell_type": "code",
   "execution_count": 22,
   "metadata": {},
   "outputs": [
    {
     "name": "stdout",
     "output_type": "stream",
     "text": [
      "English Apple app list length:  6183\n",
      "\n",
      "\n",
      "Sample of names on English Apple app list:  ['Facebook', 'Instagram', 'Clash of Clans', 'Temple Run', 'Pandora - Music & Radio']\n",
      "\n",
      "\n",
      "Non-English Apple app list length:  1014\n",
      "\n",
      "\n",
      "Sample of names on non-English Apple app list:  ['爱奇艺PPS -《欢乐颂2》电视剧热播', '聚力视频HD-人民的名义,跨界歌王全网热播', '优酷视频', '网易新闻 - 精选好内容，算出你的兴趣', '淘宝 - 随时随地，想淘就淘']\n"
     ]
    }
   ],
   "source": [
    "english_apps_apple = []\n",
    "non_eng_apps_apple = []\n",
    "for app in apple:\n",
    "    name = app[1]\n",
    "    if eng_name(name) == True:\n",
    "        english_apps_apple.append(app)\n",
    "    else:\n",
    "        non_eng_apps_apple.append(app)\n",
    "print('English Apple app list length: ', len(english_apps_apple))   \n",
    "print('\\n')\n",
    "names_eng_apple = []\n",
    "for app in english_apps_apple:\n",
    "    names_eng_apple.append(app[1])\n",
    "print('Sample of names on English Apple app list: ', names_eng_apple[:5])\n",
    "print('\\n')\n",
    "names_non_eng_apple = []\n",
    "for app in non_eng_apps_apple:\n",
    "    names_non_eng_apple.append(app[1])\n",
    "print('Non-English Apple app list length: ', len(non_eng_apps_apple))\n",
    "print('\\n')\n",
    "print('Sample of names on non-English Apple app list: ', names_non_eng_apple[:5])\n",
    "    "
   ]
  },
  {
   "cell_type": "markdown",
   "metadata": {},
   "source": [
    "**The function separated out 1,014 non-English Apple apps from our list, leaving 6,183 English apps.**"
   ]
  },
  {
   "cell_type": "markdown",
   "metadata": {},
   "source": [
    "### 3d. Isolating Free Apps"
   ]
  },
  {
   "cell_type": "code",
   "execution_count": 23,
   "metadata": {},
   "outputs": [
    {
     "name": "stdout",
     "output_type": "stream",
     "text": [
      "Free Android app list length:  8864\n",
      "\n",
      "\n",
      "Sample of free Android apps:  [['Photo Editor & Candy Camera & Grid & ScrapBook', 'ART_AND_DESIGN', '4.1', '159', '19M', '10,000+', 'Free', '0', 'Everyone', 'Art & Design', 'January 7, 2018', '1.0.0', '4.0.3 and up'], ['U Launcher Lite – FREE Live Cool Themes, Hide Apps', 'ART_AND_DESIGN', '4.7', '87510', '8.7M', '5,000,000+', 'Free', '0', 'Everyone', 'Art & Design', 'August 1, 2018', '1.2.4', '4.0.3 and up'], ['Sketch - Draw & Paint', 'ART_AND_DESIGN', '4.5', '215644', '25M', '50,000,000+', 'Free', '0', 'Teen', 'Art & Design', 'June 8, 2018', 'Varies with device', '4.2 and up']]\n",
      "\n",
      "\n",
      "Free Apple app list length:  3222\n",
      "\n",
      "\n",
      "Sample of free Apple apps:  [['284882215', 'Facebook', '389879808', 'USD', '0.0', '2974676', '212', '3.5', '3.5', '95.0', '4+', 'Social Networking', '37', '1', '29', '1'], ['389801252', 'Instagram', '113954816', 'USD', '0.0', '2161558', '1289', '4.5', '4.0', '10.23', '12+', 'Photo & Video', '37', '0', '29', '1'], ['529479190', 'Clash of Clans', '116476928', 'USD', '0.0', '2130805', '579', '4.5', '4.5', '9.24.12', '9+', 'Games', '38', '5', '18', '1']]\n"
     ]
    }
   ],
   "source": [
    "# Free Android Apps\n",
    "free_android_apps = []\n",
    "for app in english_apps_android:\n",
    "    price = app[7]\n",
    "    if price in '0':\n",
    "        free_android_apps.append(app)\n",
    "\n",
    "print('Free Android app list length: ', len(free_android_apps))\n",
    "print('\\n')\n",
    "print('Sample of free Android apps: ', free_android_apps[:3])\n",
    "print('\\n')\n",
    "\n",
    "# Free Apple Apps\n",
    "free_apple_apps = []\n",
    "for app in english_apps_apple:\n",
    "    price = app[4]\n",
    "    if price in '0.0':\n",
    "        free_apple_apps.append(app)\n",
    "\n",
    "print('Free Apple app list length: ', len(free_apple_apps))\n",
    "print('\\n')\n",
    "print('Sample of free Apple apps: ', free_apple_apps[:3])"
   ]
  },
  {
   "cell_type": "markdown",
   "metadata": {},
   "source": [
    "**There are 8,864 free Android apps and 3,222 free Apple apps in the datasets.**"
   ]
  },
  {
   "cell_type": "markdown",
   "metadata": {},
   "source": [
    "## 4. Data Analysis\n",
    "\n",
    "The overall goal of this project is to determine what type of free apps will likely attract more users, which should increase ad revenue. \n",
    "\n",
    "The company's app validation strategy involves first building a minimal version of the app for the Android market and making it available on Google Play. If the app performs well in that market, the company continues to develop it. After six months, if the app is profitable, the company builds an iOS version and makes it available on the Apple App Store. Therefore, the end goal for any successful app is to add it to both the Android and Apple markets. \n",
    "\n",
    "### 4a. Most Common App Genres\n",
    "\n",
    "As a first step in my data analysis, I'll determine the most common app genres in the Android and Apple markets. "
   ]
  },
  {
   "cell_type": "markdown",
   "metadata": {},
   "source": [
    "As a reminder, here are the columns in each dataset:\n",
    "\n",
    "**Android:** 'App', 'Category', 'Rating', 'Reviews', 'Size', 'Installs', 'Type', 'Price', 'Content Rating', 'Genres', 'Last Updated', 'Current Ver', 'Android Ver'\n",
    "\n",
    "\n",
    "**Apple:** 'id', 'track_name', 'size_bytes', 'currency', 'price', 'rating_count_tot', 'rating_count_ver', 'user_rating', 'user_rating_ver', 'ver', 'cont_rating', 'prime_genre', 'sup_devices.num', 'ipadSc_urls.num', 'lang.num', 'vpp_lic'\n",
    "\n",
    "The primary columns I'll need for this analysis are the **prime_genre** column from the Apple dataset and the **Genres** and **Category** columns from the Google dataset. "
   ]
  },
  {
   "cell_type": "markdown",
   "metadata": {},
   "source": [
    "I'll make frequency tables showing the percentage of all apps that fit each genre/category using the **freq_table()** function. Then I'll display it using the **display_table()** function."
   ]
  },
  {
   "cell_type": "code",
   "execution_count": 24,
   "metadata": {},
   "outputs": [],
   "source": [
    "def freq_table(dataset, index):\n",
    "    table = {}\n",
    "    total = 0\n",
    "    \n",
    "    for row in dataset:\n",
    "        item = row[index]\n",
    "        total += 1\n",
    "        if item in table:\n",
    "            table[item] += 1\n",
    "        else:\n",
    "            table[item] = 1\n",
    "    \n",
    "    percent_table = {}\n",
    "    for key in table:\n",
    "        percent_table[key] = (table[key] / total) * 100.0\n",
    "            \n",
    "    return percent_table\n"
   ]
  },
  {
   "cell_type": "code",
   "execution_count": 25,
   "metadata": {},
   "outputs": [],
   "source": [
    "def display_table(dataset, index):\n",
    "    table = freq_table(dataset, index)\n",
    "    table_display = []\n",
    "    for key in table:\n",
    "        key_val_as_tuple = (table[key], key)\n",
    "        table_display.append(key_val_as_tuple)\n",
    "\n",
    "    table_sorted = sorted(table_display, reverse = True)\n",
    "    for entry in table_sorted:\n",
    "        print(entry[1], ':', entry[0])"
   ]
  },
  {
   "cell_type": "code",
   "execution_count": 26,
   "metadata": {},
   "outputs": [
    {
     "name": "stdout",
     "output_type": "stream",
     "text": [
      "Games : 58.16263190564867\n",
      "Entertainment : 7.883302296710118\n",
      "Photo & Video : 4.9658597144630665\n",
      "Education : 3.662321539416512\n",
      "Social Networking : 3.2898820608317814\n",
      "Shopping : 2.60707635009311\n",
      "Utilities : 2.5139664804469275\n",
      "Sports : 2.1415270018621975\n",
      "Music : 2.0484171322160147\n",
      "Health & Fitness : 2.0173805090006205\n",
      "Productivity : 1.7380509000620732\n",
      "Lifestyle : 1.5828677839851024\n",
      "News : 1.3345747982619491\n",
      "Travel : 1.2414649286157666\n",
      "Finance : 1.1173184357541899\n",
      "Weather : 0.8690254500310366\n",
      "Food & Drink : 0.8069522036002483\n",
      "Reference : 0.5586592178770949\n",
      "Business : 0.5276225946617008\n",
      "Book : 0.4345127250155183\n",
      "Navigation : 0.186219739292365\n",
      "Medical : 0.186219739292365\n",
      "Catalogs : 0.12414649286157665\n"
     ]
    }
   ],
   "source": [
    "# Apple Prime_Genre Table\n",
    "display_table(free_apple_apps, 11)"
   ]
  },
  {
   "cell_type": "code",
   "execution_count": 27,
   "metadata": {},
   "outputs": [
    {
     "name": "stdout",
     "output_type": "stream",
     "text": [
      "FAMILY : 18.907942238267147\n",
      "GAME : 9.724729241877256\n",
      "TOOLS : 8.461191335740072\n",
      "BUSINESS : 4.591606498194946\n",
      "LIFESTYLE : 3.9034296028880866\n",
      "PRODUCTIVITY : 3.892148014440433\n",
      "FINANCE : 3.7003610108303246\n",
      "MEDICAL : 3.531137184115524\n",
      "SPORTS : 3.395758122743682\n",
      "PERSONALIZATION : 3.3167870036101084\n",
      "COMMUNICATION : 3.2378158844765346\n",
      "HEALTH_AND_FITNESS : 3.0798736462093865\n",
      "PHOTOGRAPHY : 2.944494584837545\n",
      "NEWS_AND_MAGAZINES : 2.7978339350180503\n",
      "SOCIAL : 2.6624548736462095\n",
      "TRAVEL_AND_LOCAL : 2.33528880866426\n",
      "SHOPPING : 2.2450361010830324\n",
      "BOOKS_AND_REFERENCE : 2.1435018050541514\n",
      "DATING : 1.861462093862816\n",
      "VIDEO_PLAYERS : 1.7937725631768955\n",
      "MAPS_AND_NAVIGATION : 1.3989169675090252\n",
      "FOOD_AND_DRINK : 1.2409747292418771\n",
      "EDUCATION : 1.1620036101083033\n",
      "ENTERTAINMENT : 0.9589350180505415\n",
      "LIBRARIES_AND_DEMO : 0.9363718411552346\n",
      "AUTO_AND_VEHICLES : 0.9250902527075812\n",
      "HOUSE_AND_HOME : 0.8235559566787004\n",
      "WEATHER : 0.8009927797833934\n",
      "EVENTS : 0.7107400722021661\n",
      "PARENTING : 0.6543321299638989\n",
      "ART_AND_DESIGN : 0.6430505415162455\n",
      "COMICS : 0.6204873646209386\n",
      "BEAUTY : 0.5979241877256317\n"
     ]
    }
   ],
   "source": [
    "# Android Category Table\n",
    "display_table(free_android_apps, 1)"
   ]
  },
  {
   "cell_type": "code",
   "execution_count": 28,
   "metadata": {},
   "outputs": [
    {
     "name": "stdout",
     "output_type": "stream",
     "text": [
      "Tools : 8.449909747292418\n",
      "Entertainment : 6.069494584837545\n",
      "Education : 5.347472924187725\n",
      "Business : 4.591606498194946\n",
      "Productivity : 3.892148014440433\n",
      "Lifestyle : 3.892148014440433\n",
      "Finance : 3.7003610108303246\n",
      "Medical : 3.531137184115524\n",
      "Sports : 3.463447653429603\n",
      "Personalization : 3.3167870036101084\n",
      "Communication : 3.2378158844765346\n",
      "Action : 3.1024368231046933\n",
      "Health & Fitness : 3.0798736462093865\n",
      "Photography : 2.944494584837545\n",
      "News & Magazines : 2.7978339350180503\n",
      "Social : 2.6624548736462095\n",
      "Travel & Local : 2.3240072202166067\n",
      "Shopping : 2.2450361010830324\n",
      "Books & Reference : 2.1435018050541514\n",
      "Simulation : 2.0419675090252705\n",
      "Dating : 1.861462093862816\n",
      "Arcade : 1.8501805054151623\n",
      "Video Players & Editors : 1.7712093862815883\n",
      "Casual : 1.7599277978339352\n",
      "Maps & Navigation : 1.3989169675090252\n",
      "Food & Drink : 1.2409747292418771\n",
      "Puzzle : 1.128158844765343\n",
      "Racing : 0.9927797833935018\n",
      "Role Playing : 0.9363718411552346\n",
      "Libraries & Demo : 0.9363718411552346\n",
      "Auto & Vehicles : 0.9250902527075812\n",
      "Strategy : 0.9138086642599278\n",
      "House & Home : 0.8235559566787004\n",
      "Weather : 0.8009927797833934\n",
      "Events : 0.7107400722021661\n",
      "Adventure : 0.6768953068592057\n",
      "Comics : 0.6092057761732852\n",
      "Beauty : 0.5979241877256317\n",
      "Art & Design : 0.5979241877256317\n",
      "Parenting : 0.4963898916967509\n",
      "Card : 0.45126353790613716\n",
      "Casino : 0.42870036101083037\n",
      "Trivia : 0.41741877256317694\n",
      "Educational;Education : 0.39485559566787\n",
      "Board : 0.3835740072202166\n",
      "Educational : 0.3722924187725632\n",
      "Education;Education : 0.33844765342960287\n",
      "Word : 0.2594765342960289\n",
      "Casual;Pretend Play : 0.236913357400722\n",
      "Music : 0.2030685920577617\n",
      "Racing;Action & Adventure : 0.16922382671480143\n",
      "Puzzle;Brain Games : 0.16922382671480143\n",
      "Entertainment;Music & Video : 0.16922382671480143\n",
      "Casual;Brain Games : 0.13537906137184114\n",
      "Casual;Action & Adventure : 0.13537906137184114\n",
      "Arcade;Action & Adventure : 0.12409747292418773\n",
      "Action;Action & Adventure : 0.10153429602888085\n",
      "Educational;Pretend Play : 0.09025270758122744\n",
      "Simulation;Action & Adventure : 0.078971119133574\n",
      "Parenting;Education : 0.078971119133574\n",
      "Entertainment;Brain Games : 0.078971119133574\n",
      "Board;Brain Games : 0.078971119133574\n",
      "Parenting;Music & Video : 0.06768953068592057\n",
      "Educational;Brain Games : 0.06768953068592057\n",
      "Casual;Creativity : 0.06768953068592057\n",
      "Art & Design;Creativity : 0.06768953068592057\n",
      "Education;Pretend Play : 0.056407942238267145\n",
      "Role Playing;Pretend Play : 0.04512635379061372\n",
      "Education;Creativity : 0.04512635379061372\n",
      "Role Playing;Action & Adventure : 0.033844765342960284\n",
      "Puzzle;Action & Adventure : 0.033844765342960284\n",
      "Entertainment;Creativity : 0.033844765342960284\n",
      "Entertainment;Action & Adventure : 0.033844765342960284\n",
      "Educational;Creativity : 0.033844765342960284\n",
      "Educational;Action & Adventure : 0.033844765342960284\n",
      "Education;Music & Video : 0.033844765342960284\n",
      "Education;Brain Games : 0.033844765342960284\n",
      "Education;Action & Adventure : 0.033844765342960284\n",
      "Adventure;Action & Adventure : 0.033844765342960284\n",
      "Video Players & Editors;Music & Video : 0.02256317689530686\n",
      "Sports;Action & Adventure : 0.02256317689530686\n",
      "Simulation;Pretend Play : 0.02256317689530686\n",
      "Puzzle;Creativity : 0.02256317689530686\n",
      "Music;Music & Video : 0.02256317689530686\n",
      "Entertainment;Pretend Play : 0.02256317689530686\n",
      "Casual;Education : 0.02256317689530686\n",
      "Board;Action & Adventure : 0.02256317689530686\n",
      "Video Players & Editors;Creativity : 0.01128158844765343\n",
      "Trivia;Education : 0.01128158844765343\n",
      "Travel & Local;Action & Adventure : 0.01128158844765343\n",
      "Tools;Education : 0.01128158844765343\n",
      "Strategy;Education : 0.01128158844765343\n",
      "Strategy;Creativity : 0.01128158844765343\n",
      "Strategy;Action & Adventure : 0.01128158844765343\n",
      "Simulation;Education : 0.01128158844765343\n",
      "Role Playing;Brain Games : 0.01128158844765343\n",
      "Racing;Pretend Play : 0.01128158844765343\n",
      "Puzzle;Education : 0.01128158844765343\n",
      "Parenting;Brain Games : 0.01128158844765343\n",
      "Music & Audio;Music & Video : 0.01128158844765343\n",
      "Lifestyle;Pretend Play : 0.01128158844765343\n",
      "Lifestyle;Education : 0.01128158844765343\n",
      "Health & Fitness;Education : 0.01128158844765343\n",
      "Health & Fitness;Action & Adventure : 0.01128158844765343\n",
      "Entertainment;Education : 0.01128158844765343\n",
      "Communication;Creativity : 0.01128158844765343\n",
      "Comics;Creativity : 0.01128158844765343\n",
      "Casual;Music & Video : 0.01128158844765343\n",
      "Card;Action & Adventure : 0.01128158844765343\n",
      "Books & Reference;Education : 0.01128158844765343\n",
      "Art & Design;Pretend Play : 0.01128158844765343\n",
      "Art & Design;Action & Adventure : 0.01128158844765343\n",
      "Arcade;Pretend Play : 0.01128158844765343\n",
      "Adventure;Education : 0.01128158844765343\n"
     ]
    }
   ],
   "source": [
    "# Android Genres Table\n",
    "display_table(free_android_apps, 9)"
   ]
  },
  {
   "cell_type": "markdown",
   "metadata": {},
   "source": [
    "### 4b. Insights: Common App Genres\n",
    "Now that I've created frequency tables for genres in the Apple and Android app stores, I'll explore the data for insights. \n",
    "#### Apple\n",
    "The Apple table shows that games make up the most common genre in the free English app market by a significant margin with 58.2% of all apps in that category. Entertainment apps make up the next largest genre with 7.9%, followed by Photo & Video with 5.0%, Education with 3.7%, and Social Networking with 3.3%.\n",
    "\n",
    "Apps used for fun and entertainment (in genres like games, entertainment, photo & video, sports, music, etc.) appear to signficantly outnumber apps used for practical or educational purposes (in genres like education, utilities, productivity, finance, weather, etc.). \n",
    "#### Android\n",
    "The Android dataset shows a different distribution; its genres and categories are broken into more segments than the Apple dataset. The Android dataset also shows a more balanced representation of fun and practical apps. \n",
    "\n",
    "The Android category table shows that 18.9% of free English apps fit into the family category, which includes children's games, learning tools, and other child-friendly apps. The next largest categories are games with 9.7%; tools with 8.5%; and business with 4.6% of free English apps.\n",
    "\n",
    "The Android genre table, which is broken down into many subcategories, shows that 8.5% of free English apps fit the tools genre; 6.1 % fit the entertainment genre; 5.3% fit the education genre; and 4.6% fit the business genre. \n",
    "#### Takeaways\n",
    "The analysis suggests that creating an entertainment app might best fit the Apple store, while either an entertainment or practical app would fit the Android store. However, it's important to keep in mind that just because these genre categories contain the most apps, it does not mean these genres contain the most **used** apps. For this reason, app popularity based on the number of users will be the next subject of my analysis. "
   ]
  },
  {
   "cell_type": "markdown",
   "metadata": {},
   "source": [
    "### 4c. Most Popular Apps by Genre\n",
    "Apps only generate ad revenue if people use them, which is why app usage is an important consideration. For this analysis, I'll look at the the rating_count_tot column in the Apple dataset and the installs column in the Google dataset. \n",
    "#### Apple"
   ]
  },
  {
   "cell_type": "code",
   "execution_count": 29,
   "metadata": {},
   "outputs": [
    {
     "name": "stdout",
     "output_type": "stream",
     "text": [
      "Average number of reviews by genre:\n",
      "\n",
      "\n",
      "Navigation :  86090.33333333333\n",
      "Reference :  74942.11111111111\n",
      "Social Networking :  71548.34905660378\n",
      "Music :  57326.530303030304\n",
      "Weather :  52279.892857142855\n",
      "Book :  39758.5\n",
      "Food & Drink :  33333.92307692308\n",
      "Finance :  31467.944444444445\n",
      "Photo & Video :  28441.54375\n",
      "Travel :  28243.8\n",
      "Shopping :  26919.690476190477\n",
      "Health & Fitness :  23298.015384615384\n",
      "Sports :  23008.898550724636\n",
      "Games :  22788.6696905016\n",
      "News :  21248.023255813954\n",
      "Productivity :  21028.410714285714\n",
      "Utilities :  18684.456790123455\n",
      "Lifestyle :  16485.764705882353\n",
      "Entertainment :  14029.830708661417\n",
      "Business :  7491.117647058823\n",
      "Education :  7003.983050847458\n",
      "Catalogs :  4004.0\n",
      "Medical :  612.0\n"
     ]
    }
   ],
   "source": [
    "# Average number of user ratings per genre\n",
    "# Apple\n",
    "\n",
    "apple_genre_table = freq_table(free_apple_apps, 11)\n",
    "avg_rating_dict = {}\n",
    "\n",
    "for genre in apple_genre_table:\n",
    "    total = 0\n",
    "    num_apps_genre = 0\n",
    "    \n",
    "    # Summing reviews and counting apps\n",
    "    for app in free_apple_apps:\n",
    "        genre_app = app[11]\n",
    "        if genre_app == genre:\n",
    "            user_ratings = float(app[5])\n",
    "            total += user_ratings\n",
    "            num_apps_genre += 1\n",
    "    avg_ratings = total / num_apps_genre\n",
    "    avg_rating_dict[genre] = avg_ratings\n",
    "    \n",
    "# For easier readability, I'll sort the dictionary by values \n",
    "sorted_dict = sorted(avg_rating_dict.items(), key=lambda kv: \n",
    "                 kv[1], reverse = True)\n",
    "print('Average number of reviews by genre:')\n",
    "print('\\n')\n",
    "for row in sorted_dict:\n",
    "    print(row[0], \": \", row[1])\n"
   ]
  },
  {
   "cell_type": "markdown",
   "metadata": {},
   "source": [
    "Navigation is the genre with the most average reviews. However, I want to take a closer look before making any assumptions. I'll look at the number of reviews for each app in the navigation genre:"
   ]
  },
  {
   "cell_type": "code",
   "execution_count": 30,
   "metadata": {},
   "outputs": [
    {
     "name": "stdout",
     "output_type": "stream",
     "text": [
      "Waze - GPS Navigation, Maps & Real-time Traffic :  345046\n",
      "Google Maps - Navigation & Transit :  154911\n",
      "Geocaching® :  12811\n",
      "CoPilot GPS – Car Navigation & Offline Maps :  3582\n",
      "ImmobilienScout24: Real Estate Search in Germany :  187\n",
      "Railway Route Search :  5\n"
     ]
    }
   ],
   "source": [
    "for app in free_apple_apps:\n",
    "    if app[11] == 'Navigation':\n",
    "        print(app[1], \": \", app[5])"
   ]
  },
  {
   "cell_type": "markdown",
   "metadata": {},
   "source": [
    "On closer inspection, the navigation genre only contains 6 apps, and the average number of reviews for the genre is skewed heavily by two widely used apps, Waze and Google Maps. There is a sharp dropoff in review count for apps 3 to 6. For these reasons, I would not recommend making a navigation app, despite the genre having the highest number of average reviews.  \n",
    "\n",
    "I'll explore the review counts for other genres. I'll limit my look to the top ten for each genre so I can see which have sharp dropoffs in review numbers and which have a more even distribution. "
   ]
  },
  {
   "cell_type": "code",
   "execution_count": 31,
   "metadata": {},
   "outputs": [
    {
     "name": "stdout",
     "output_type": "stream",
     "text": [
      "Bible :  985920\n",
      "Dictionary.com Dictionary & Thesaurus :  200047\n",
      "Dictionary.com Dictionary & Thesaurus for iPad :  54175\n",
      "Google Translate :  26786\n",
      "Muslim Pro: Ramadan 2017 Prayer Times, Azan, Quran :  18418\n",
      "New Furniture Mods - Pocket Wiki & Game Tools for Minecraft PC Edition :  17588\n",
      "Merriam-Webster Dictionary :  16849\n",
      "Night Sky :  12122\n",
      "City Maps for Minecraft PE - The Best Maps for Minecraft Pocket Edition (MCPE) :  8535\n",
      "LUCKY BLOCK MOD ™ for Minecraft PC Edition - The Best Pocket Wiki & Mods Installer Tools :  4693\n"
     ]
    }
   ],
   "source": [
    "count = 0\n",
    "for app in free_apple_apps:\n",
    "    if app[11] == 'Reference' and count < 10:\n",
    "        print(app[1], \": \", app[5])\n",
    "        count += 1"
   ]
  },
  {
   "cell_type": "markdown",
   "metadata": {},
   "source": [
    "Like navigation, the reference genre has a few dominant apps with most of the reviews. However, by the time we reach the 10th most popular app, there are only several thousand reviews. This suggests reference might be a difficult genre to compete in; only the top 5 or so apps in the space manage to attract a significant number of users. "
   ]
  },
  {
   "cell_type": "code",
   "execution_count": 32,
   "metadata": {},
   "outputs": [
    {
     "name": "stdout",
     "output_type": "stream",
     "text": [
      "Facebook :  2974676\n",
      "Pinterest :  1061624\n",
      "Skype for iPhone :  373519\n",
      "Messenger :  351466\n",
      "Tumblr :  334293\n",
      "WhatsApp Messenger :  287589\n",
      "Kik :  260965\n",
      "ooVoo – Free Video Call, Text and Voice :  177501\n",
      "TextNow - Unlimited Text + Calls :  164963\n",
      "Viber Messenger – Text & Call :  164249\n"
     ]
    }
   ],
   "source": [
    "count = 0\n",
    "for app in free_apple_apps:\n",
    "    if app[11] == 'Social Networking' and count < 10:\n",
    "        print(app[1], \": \", app[5])\n",
    "        count += 1"
   ]
  },
  {
   "cell_type": "markdown",
   "metadata": {},
   "source": [
    "In contrast to the navigation and reference genres, the social networking genre shows a higher number of reviews across a larger number of apps. Even the tenth most popular app in the genre has 150k+ reviews. \n",
    "\n",
    "Expanding my search shows that apps in the top 20 still having ~50k reviews. This suggests that an app in the social networking genre does not need to reach Facebook or Pinterest levels of success to attract a meaningful number of users. "
   ]
  },
  {
   "cell_type": "code",
   "execution_count": 33,
   "metadata": {},
   "outputs": [
    {
     "name": "stdout",
     "output_type": "stream",
     "text": [
      "Followers - Social Analytics For Instagram :  112778\n",
      "MeetMe - Chat and Meet New People :  97072\n",
      "We Heart It - Fashion, wallpapers, quotes, tattoos :  90414\n",
      "InsTrack for Instagram - Analytics Plus More :  85535\n",
      "Tango - Free Video Call, Voice and Chat :  75412\n",
      "LinkedIn :  71856\n",
      "Match™ - #1 Dating App. :  60659\n",
      "Skype for iPad :  60163\n",
      "POF - Best Dating App for Conversations :  52642\n",
      "Timehop :  49510\n"
     ]
    }
   ],
   "source": [
    "count = 0\n",
    "for app in free_apple_apps:\n",
    "    if app[11] == 'Social Networking' and count < 10:\n",
    "        count += 1\n",
    "    elif app[11] == 'Social Networking' and count < 20:\n",
    "        print(app[1], \": \", app[5])\n",
    "        count += 1"
   ]
  },
  {
   "cell_type": "markdown",
   "metadata": {},
   "source": [
    "Photo & Video is another genre that stands out as having a larger number of popular apps. Looking past the biggest names in the space, there are still many apps that have tens of thousands of reviews.  "
   ]
  },
  {
   "cell_type": "code",
   "execution_count": 34,
   "metadata": {},
   "outputs": [
    {
     "name": "stdout",
     "output_type": "stream",
     "text": [
      "Mixgram - Picture Collage Maker - Pic Photo Editor :  54282\n",
      "Shutterfly: Prints, Photo Books, Cards Made Easy :  51427\n",
      "Pic Jointer – Photo Collage, Camera Effects Editor :  51330\n",
      "Color Pop Effects - Photo Editor & Picture Editing :  45320\n",
      "Photo Grid - photo collage maker & photo editor :  40531\n",
      "iSwap Faces LITE :  39722\n",
      "MOLDIV - Photo Editor, Collage & Beauty Camera :  39501\n",
      "Photo Editor by Aviary :  39501\n",
      "Photo Lab: Picture Editor, effects & fun face app :  34585\n",
      "Rookie Cam - Photo Editor & Filter Camera :  33921\n"
     ]
    }
   ],
   "source": [
    "count = 0\n",
    "for app in free_apple_apps:\n",
    "    if app[11] == 'Photo & Video' and count < 10:\n",
    "        count += 1\n",
    "    elif app[11] == 'Photo & Video' and count < 20:\n",
    "        print(app[1], \": \", app[5])\n",
    "        count += 1"
   ]
  },
  {
   "cell_type": "markdown",
   "metadata": {},
   "source": [
    "#### Android\n",
    "Next, I'll perform the same analysis steps on the Android dataset. I'll focus on the number of installs per category, which seems to be most analogous to Apple's genres.  "
   ]
  },
  {
   "cell_type": "code",
   "execution_count": 35,
   "metadata": {},
   "outputs": [
    {
     "name": "stdout",
     "output_type": "stream",
     "text": [
      "Average number of installs by genre:\n",
      "\n",
      "\n",
      "COMMUNICATION :  38456119.167247385\n",
      "VIDEO_PLAYERS :  24727872.452830188\n",
      "SOCIAL :  23253652.127118643\n",
      "PHOTOGRAPHY :  17840110.40229885\n",
      "PRODUCTIVITY :  16787331.344927534\n",
      "GAME :  15588015.603248259\n",
      "TRAVEL_AND_LOCAL :  13984077.710144928\n",
      "ENTERTAINMENT :  11640705.88235294\n",
      "TOOLS :  10801391.298666667\n",
      "NEWS_AND_MAGAZINES :  9549178.467741935\n",
      "BOOKS_AND_REFERENCE :  8767811.894736841\n",
      "SHOPPING :  7036877.311557789\n",
      "PERSONALIZATION :  5201482.6122448975\n",
      "WEATHER :  5074486.197183099\n",
      "HEALTH_AND_FITNESS :  4188821.9853479853\n",
      "MAPS_AND_NAVIGATION :  4056941.7741935486\n",
      "FAMILY :  3695641.8198090694\n",
      "SPORTS :  3638640.1428571427\n",
      "ART_AND_DESIGN :  1986335.0877192982\n",
      "FOOD_AND_DRINK :  1924897.7363636363\n",
      "EDUCATION :  1833495.145631068\n",
      "BUSINESS :  1712290.1474201474\n",
      "LIFESTYLE :  1437816.2687861272\n",
      "FINANCE :  1387692.475609756\n",
      "HOUSE_AND_HOME :  1331540.5616438356\n",
      "DATING :  854028.8303030303\n",
      "COMICS :  817657.2727272727\n",
      "AUTO_AND_VEHICLES :  647317.8170731707\n",
      "LIBRARIES_AND_DEMO :  638503.734939759\n",
      "PARENTING :  542603.6206896552\n",
      "BEAUTY :  513151.88679245283\n",
      "EVENTS :  253542.22222222222\n",
      "MEDICAL :  120550.61980830671\n"
     ]
    }
   ],
   "source": [
    "# Average number of user ratings per genre\n",
    "# Android\n",
    "\n",
    "android_genre_table = freq_table(free_android_apps, 1)\n",
    "avg_installs_dict = {}\n",
    "\n",
    "for genre in android_genre_table:\n",
    "    total = 0\n",
    "    num_apps_genre = 0\n",
    "    \n",
    "    # Summing reviews and counting apps\n",
    "    for app in free_android_apps:\n",
    "        genre_app = app[1]\n",
    "        if genre_app == genre:\n",
    "            \n",
    "            # Removing commas and plus sign, converting string to float\n",
    "            installs_v1 = app[5]\n",
    "            installs_v2 = installs_v1.replace(\",\", \"\")\n",
    "            installs_v3 = installs_v2.replace(\"+\", \"\")\n",
    "            installs = float(installs_v3)\n",
    "            \n",
    "            total += installs\n",
    "            num_apps_genre += 1\n",
    "    avg_installs = total / num_apps_genre\n",
    "    avg_installs_dict[genre] = avg_installs\n",
    "    \n",
    "# For easier readability, I'll sort the dictionary by values \n",
    "sorted_dict = sorted(avg_installs_dict.items(), key=lambda kv: \n",
    "                 kv[1], reverse = True)\n",
    "print('Average number of installs by genre:')\n",
    "print('\\n')\n",
    "for row in sorted_dict:\n",
    "    print(row[0], \": \", row[1])\n"
   ]
  },
  {
   "cell_type": "markdown",
   "metadata": {},
   "source": [
    "For the Android dataset, apps in the communication category are the most used with an average install count of 38,456,119. Video player apps are the second most popular at 24,727,872 installs, followed by social apps with 23,253,652 installs. \n",
    "\n",
    "Instead of showing precise install numbers, the Android dataset rounds installs to the nearest milestone (10,000,000; 5,000,000; 1,000,000; etc.). \n",
    "\n",
    "As with the Apple dataset, I'll explore these categories in more depth."
   ]
  },
  {
   "cell_type": "code",
   "execution_count": 36,
   "metadata": {},
   "outputs": [
    {
     "name": "stdout",
     "output_type": "stream",
     "text": [
      "\n",
      "\n",
      "Installs per app:\n",
      "\n",
      "\n",
      "WhatsApp Messenger :  1000000000.0\n",
      "Messenger – Text and Video Chat for Free :  1000000000.0\n",
      "Skype - free IM & video calls :  1000000000.0\n",
      "Google Chrome: Fast & Secure :  1000000000.0\n",
      "Gmail :  1000000000.0\n",
      "Hangouts :  1000000000.0\n",
      "Google Duo - High Quality Video Calls :  500000000.0\n",
      "imo free video calls and chat :  500000000.0\n",
      "LINE: Free Calls & Messages :  500000000.0\n",
      "UC Browser - Fast Download Private & Secure :  500000000.0\n",
      "Viber Messenger :  500000000.0\n",
      "imo beta free calls and text :  100000000.0\n",
      "Android Messages :  100000000.0\n",
      "Who :  100000000.0\n",
      "GO SMS Pro - Messenger, Free Themes, Emoji :  100000000.0\n",
      "Firefox Browser fast & private :  100000000.0\n",
      "Messenger Lite: Free Calls & Messages :  100000000.0\n",
      "Kik :  100000000.0\n",
      "KakaoTalk: Free Calls & Text :  100000000.0\n",
      "Opera Mini - fast web browser :  100000000.0\n"
     ]
    }
   ],
   "source": [
    "install_dict = {}\n",
    "for app in free_android_apps:\n",
    "    installs_v1 = app[5]\n",
    "    installs_v2 = installs_v1.replace(\",\", \"\")\n",
    "    installs_v3 = installs_v2.replace(\"+\", \"\")\n",
    "    installs = float(installs_v3)\n",
    "    name = app[0]\n",
    "    if app[1] == 'COMMUNICATION':\n",
    "        install_dict[name] = installs\n",
    "                                      \n",
    "\n",
    "print('\\n')\n",
    "# For easier readability, I'll sort the dictionary by values \n",
    "sorted_dict = sorted(install_dict.items(), key=lambda kv: \n",
    "                 kv[1], reverse = True)\n",
    "print('Installs per app:')\n",
    "print('\\n')\n",
    "count = 0\n",
    "for row in sorted_dict:\n",
    "    if count < 20:\n",
    "        print(row[0], \": \", row[1])\n",
    "        count += 1\n"
   ]
  },
  {
   "cell_type": "markdown",
   "metadata": {},
   "source": [
    "There appears to be more competition from well-known companies in the Android market, which might make gaining traction in the communication genre difficult. \n",
    "\n",
    "I explored the other categories, and like in the Apple market, the Photography category stood out as having a wide variety of successful apps. Instead of being dominated by a few major players, this category seemed to allow room for competition; many mid-tier apps managed to attract large userbases. "
   ]
  },
  {
   "cell_type": "code",
   "execution_count": 38,
   "metadata": {},
   "outputs": [
    {
     "name": "stdout",
     "output_type": "stream",
     "text": [
      "\n",
      "\n",
      "Installs per app:\n",
      "\n",
      "\n",
      "Google Photos :  1000000000.0\n",
      "B612 - Beauty & Filter Camera :  100000000.0\n",
      "YouCam Makeup - Magic Selfie Makeovers :  100000000.0\n",
      "Sweet Selfie - selfie camera, beauty cam, photo edit :  100000000.0\n",
      "Retrica :  100000000.0\n",
      "Photo Editor Pro :  100000000.0\n",
      "BeautyPlus - Easy Photo Editor & Selfie Camera :  100000000.0\n",
      "PicsArt Photo Studio: Collage Maker & Pic Editor :  100000000.0\n",
      "Photo Collage Editor :  100000000.0\n",
      "Z Camera - Photo Editor, Beauty Selfie, Collage :  100000000.0\n",
      "PhotoGrid: Video & Pic Collage Maker, Photo Editor :  100000000.0\n",
      "Candy Camera - selfie, beauty camera, photo editor :  100000000.0\n",
      "YouCam Perfect - Selfie Photo Editor :  100000000.0\n",
      "Camera360: Selfie Photo Editor with Funny Sticker :  100000000.0\n",
      "S Photo Editor - Collage Maker , Photo Collage :  100000000.0\n",
      "AR effect :  100000000.0\n",
      "Cymera Camera- Photo Editor, Filter,Collage,Layout :  100000000.0\n",
      "LINE Camera - Photo editor :  100000000.0\n",
      "Photo Editor Collage Maker Pro :  100000000.0\n",
      "Motorola Camera :  50000000.0\n"
     ]
    }
   ],
   "source": [
    "install_dict = {}\n",
    "for app in free_android_apps:\n",
    "    installs_v1 = app[5]\n",
    "    installs_v2 = installs_v1.replace(\",\", \"\")\n",
    "    installs_v3 = installs_v2.replace(\"+\", \"\")\n",
    "    installs = float(installs_v3)\n",
    "    name = app[0]\n",
    "    if app[1] == 'PHOTOGRAPHY':\n",
    "        install_dict[name] = installs\n",
    "                                      \n",
    "\n",
    "print('\\n')\n",
    "# For easier readability, I'll sort the dictionary by values \n",
    "sorted_dict = sorted(install_dict.items(), key=lambda kv: \n",
    "                 kv[1], reverse = True)\n",
    "print('Installs per app:')\n",
    "print('\\n')\n",
    "count = 0\n",
    "for row in sorted_dict:\n",
    "    if count < 20:\n",
    "        print(row[0], \": \", row[1])\n",
    "        count += 1\n"
   ]
  },
  {
   "cell_type": "markdown",
   "metadata": {},
   "source": [
    "### 4d. Insights: Popular Apps by Genre\n",
    "Despite having a high number of average reviews, several genres (such as navigation and reference) were heavily skewed by the big companies in those spaces. I chose to instead search for genres where a relatively large number of apps could achieve review counts in the tens of thousands or more; or apps in the Google Store that could achieve millions of installs. \n",
    "\n",
    "#### Apple\n",
    "In the Apple dataset, two genres stood out as having a large number of popular apps and room for competition: Social Networking and Photo & Video. \n",
    "\n",
    "Two of the top 20 social networking apps focused on Instagram analytics; perhaps analytics for another popular social platform could be a viable focus for a new app.\n",
    "\n",
    "Alternatively, in the Photo & Video genre, developing a photo-effect, emoji, augmented reality, collage, or video filter are all possible directions to take a new app. \n",
    "#### Android\n",
    "In the Android dataset, the Photography category stood out as allowing for the most competition. Many mid-tier apps attracted large userbases instead of the category being dominated by only a few major companies. \n",
    "\n",
    "I believe this category could be worth focusing on because it overlaps with the Photo & Video genre in the Apple market; an app developed for this genre could potentially perform well in both app stores. "
   ]
  },
  {
   "cell_type": "markdown",
   "metadata": {},
   "source": []
  }
 ],
 "metadata": {
  "kernelspec": {
   "display_name": "Python 3",
   "language": "python",
   "name": "python3"
  },
  "language_info": {
   "codemirror_mode": {
    "name": "ipython",
    "version": 3
   },
   "file_extension": ".py",
   "mimetype": "text/x-python",
   "name": "python",
   "nbconvert_exporter": "python",
   "pygments_lexer": "ipython3",
   "version": "3.8.2"
  }
 },
 "nbformat": 4,
 "nbformat_minor": 2
}
